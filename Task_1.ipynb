{
  "nbformat": 4,
  "nbformat_minor": 0,
  "metadata": {
    "colab": {
      "provenance": []
    },
    "kernelspec": {
      "name": "python3",
      "display_name": "Python 3"
    },
    "language_info": {
      "name": "python"
    }
  },
  "cells": [
    {
      "cell_type": "code",
      "execution_count": null,
      "metadata": {
        "colab": {
          "base_uri": "https://localhost:8080/"
        },
        "id": "4T6qiikHP5Ls",
        "outputId": "69b4b47e-1269-4f1b-c40e-b4d01cf5f946"
      },
      "outputs": [
        {
          "output_type": "stream",
          "name": "stdout",
          "text": [
            "CSV file saved at: /content/bbc_articles.csv\n"
          ]
        }
      ],
      "source": [
        "import os\n",
        "import csv\n",
        "from zipfile import ZipFile\n",
        "\n",
        "# Step 1: Unzip the data\n",
        "data_folder = 'BBC_articles'\n",
        "with ZipFile('/content/data.zip', 'r') as zip_ref:\n",
        "    zip_ref.extractall()\n",
        "\n",
        "# Step 2: Parse file names and read text files\n",
        "data = []\n",
        "for filename in os.listdir(data_folder):\n",
        "    if filename.endswith('.txt'):\n",
        "        article_id, category = filename.split('_')\n",
        "        category = category.split('.')[0]  # Remove the file extension\n",
        "        with open(os.path.join(data_folder, filename), 'r', encoding='utf-8') as file:\n",
        "            text = file.read()\n",
        "            data.append((article_id, category, text))\n",
        "\n",
        "# Determine the path for CSV file\n",
        "csv_file_path = os.path.join(os.path.dirname(os.path.abspath('/content/data.zip')), 'bbc_articles.csv')\n",
        "\n",
        "# Step 3: Write data to CSV file\n",
        "with open(csv_file_path, 'w', newline='', encoding='utf-8') as csvfile:\n",
        "    writer = csv.writer(csvfile)\n",
        "    writer.writerow(['article_id', 'category', 'text'])\n",
        "    writer.writerows(data)\n",
        "\n",
        "print(\"CSV file saved at:\", csv_file_path)\n"
      ]
    }
  ]
}